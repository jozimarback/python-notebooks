{
 "cells": [
  {
   "cell_type": "code",
   "execution_count": 1,
   "metadata": {},
   "outputs": [],
   "source": [
   
    "def euclidean_distance(pt1, pt2):\n"
    "  distance = 0\n"
    "  for i in range(len(pt1)):\n"
    "    distance += (pt1[i] - pt2[i]) ** 2\n"
    "  return distance ** 0.5\n"
    "\n"
    "def manhattan_distance(pt1, pt2):\n"
    "  distance = 0\n"
    "  for i in range(len(pt1)):\n"
    "    distance += abs(pt1[i] - pt2[i])\n"
    "  return distance\n"
    "\n"
    "def hamming_distance(pt1, pt2):\n"
    "  distance = 0\n"
    "  for i in range(len(pt1)):\n"
    "    if pt1[i] != pt2[i]:\n"
    "      distance += 1\n"
    "  return distance"
   ]
  }
}
